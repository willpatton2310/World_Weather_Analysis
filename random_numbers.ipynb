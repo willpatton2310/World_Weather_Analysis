{
 "cells": [
  {
   "cell_type": "code",
   "execution_count": 1,
   "id": "ab49b96e",
   "metadata": {},
   "outputs": [],
   "source": [
    "# Import the random module.\n",
    "import random"
   ]
  },
  {
   "cell_type": "code",
   "execution_count": 2,
   "id": "4875a949",
   "metadata": {},
   "outputs": [
    {
     "data": {
      "text/plain": [
       "81"
      ]
     },
     "execution_count": 2,
     "metadata": {},
     "output_type": "execute_result"
    }
   ],
   "source": [
    "random.randint(-90,90)"
   ]
  },
  {
   "cell_type": "code",
   "execution_count": 3,
   "id": "dae4671a",
   "metadata": {},
   "outputs": [
    {
     "data": {
      "text/plain": [
       "-44.404592356479135"
      ]
     },
     "execution_count": 3,
     "metadata": {},
     "output_type": "execute_result"
    }
   ],
   "source": [
    "random_number = random.randint(-90,89) + random.random()\n",
    "random_number"
   ]
  },
  {
   "cell_type": "code",
   "execution_count": 8,
   "id": "c981ca5e",
   "metadata": {},
   "outputs": [
    {
     "name": "stdout",
     "output_type": "stream",
     "text": [
      "[70.83243161791091, 84.84944858348148, 78.0222089537444, -89.59369483843719, 62.36219836808348, -9.284851818452267, 71.50031796454802, -58.947161947762275, -2.577800533108422, -16.480145355855512]\n"
     ]
    }
   ],
   "source": [
    "x = 1\n",
    "\n",
    "latitudes = []\n",
    "\n",
    "while x < 11:\n",
    "    random_lat = random.randint(-90,89) + random.random()\n",
    "    latitudes.append(random_lat)\n",
    "    x += 1\n",
    "\n",
    "print(latitudes)"
   ]
  },
  {
   "cell_type": "code",
   "execution_count": 9,
   "id": "9c4b9696",
   "metadata": {},
   "outputs": [
    {
     "name": "stdout",
     "output_type": "stream",
     "text": [
      "[48, -18, 33, -3, -78, 87, 39, -21, 60, 6, -33, -78, -36, 60, 27, -84, -81, -24, -18]\n"
     ]
    }
   ],
   "source": [
    "y = 1\n",
    "\n",
    "testlist = []\n",
    "\n",
    "while y < 20:\n",
    "    num_ran = random.randrange(-90, 90, step=3)\n",
    "    testlist.append(num_ran)\n",
    "    y += 1\n",
    "\n",
    "print(testlist)"
   ]
  },
  {
   "cell_type": "code",
   "execution_count": 10,
   "id": "86c596a3",
   "metadata": {},
   "outputs": [
    {
     "data": {
      "text/plain": [
       "33.30170466227217"
      ]
     },
     "execution_count": 10,
     "metadata": {},
     "output_type": "execute_result"
    }
   ],
   "source": [
    "# Import the NumPy module.\n",
    "import numpy as np\n",
    "np.random.uniform(-90.000, 90.000)"
   ]
  },
  {
   "cell_type": "code",
   "execution_count": 12,
   "id": "68344f71",
   "metadata": {},
   "outputs": [
    {
     "data": {
      "text/plain": [
       "array([-75.16892969, -40.31293567,  23.86780805,  83.0055068 ,\n",
       "         2.70322816, -15.05721574, -86.68576356,  87.32835559,\n",
       "        61.0739087 ,  66.05284422, -62.57614042, -83.88037174,\n",
       "       -15.105461  , -72.02216803, -55.56707534, -42.7468569 ,\n",
       "       -79.82670289, -48.22582819,  88.44282309,  50.05802309,\n",
       "       -76.99612858, -38.23657295,  80.06701045, -15.93938182,\n",
       "        14.99212956,  64.22342107,  60.81713806,  47.15863679,\n",
       "       -74.49247982, -65.41522265,  19.20795867,  49.75963034,\n",
       "       -64.01649339, -72.35734598, -52.57119899,  38.32925141,\n",
       "        83.78974809, -20.42688038, -43.85128219, -88.55072112,\n",
       "       -22.1502101 ,  63.73416705,  -6.64471559,  27.27607657,\n",
       "       -43.14251548, -57.9782651 , -50.4427702 ,  82.30753737,\n",
       "        13.28981633, -30.25026271])"
      ]
     },
     "execution_count": 12,
     "metadata": {},
     "output_type": "execute_result"
    }
   ],
   "source": [
    "np.random.uniform(-90,90, size = 50)"
   ]
  },
  {
   "cell_type": "code",
   "execution_count": 13,
   "id": "12a9ae7d",
   "metadata": {},
   "outputs": [],
   "source": [
    "# Import timeit.\n",
    "import timeit"
   ]
  },
  {
   "cell_type": "code",
   "execution_count": 14,
   "id": "b6f05549",
   "metadata": {},
   "outputs": [
    {
     "name": "stdout",
     "output_type": "stream",
     "text": [
      "30.4 µs ± 1.86 µs per loop (mean ± std. dev. of 7 runs, 10,000 loops each)\n"
     ]
    }
   ],
   "source": [
    "%timeit np.random.uniform(-90.000, 90.000, size=1500)"
   ]
  },
  {
   "cell_type": "code",
   "execution_count": 15,
   "id": "a96b100f",
   "metadata": {},
   "outputs": [
    {
     "name": "stdout",
     "output_type": "stream",
     "text": [
      "2.98 ms ± 99.1 µs per loop (mean ± std. dev. of 7 runs, 100 loops each)\n"
     ]
    }
   ],
   "source": [
    "def latitudes(size):\n",
    "    latitudes = []\n",
    "    x = 0\n",
    "    while x < (size):\n",
    "        random_lat = random.randint(-90, 90) + random.random()\n",
    "        latitudes.append(random_lat)\n",
    "        x += 1\n",
    "    return latitudes\n",
    "# Call the function with 1500.\n",
    "%timeit latitudes(1500)"
   ]
  },
  {
   "cell_type": "code",
   "execution_count": null,
   "id": "8519acd8",
   "metadata": {},
   "outputs": [],
   "source": []
  }
 ],
 "metadata": {
  "kernelspec": {
   "display_name": "PythonData",
   "language": "python",
   "name": "pythondata"
  },
  "language_info": {
   "codemirror_mode": {
    "name": "ipython",
    "version": 3
   },
   "file_extension": ".py",
   "mimetype": "text/x-python",
   "name": "python",
   "nbconvert_exporter": "python",
   "pygments_lexer": "ipython3",
   "version": "3.9.12"
  }
 },
 "nbformat": 4,
 "nbformat_minor": 5
}
